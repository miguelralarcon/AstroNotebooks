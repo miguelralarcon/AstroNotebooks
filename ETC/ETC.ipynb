{
  "cells": [
    {
      "cell_type": "markdown",
      "metadata": {
        "id": "fpzRv2OKC6cN"
      },
      "source": [
        "# **Exposure Time Calculator**"
      ]
    },
    {
      "cell_type": "code",
      "execution_count": 1,
      "metadata": {
        "colab": {
          "base_uri": "https://localhost:8080/"
        },
        "id": "l_82I75AUlL2",
        "outputId": "a129b8b1-8d19-49b0-aa6f-94e6c34f61af"
      },
      "outputs": [],
      "source": [
        "# Import modules\n",
        "import os\n",
        "import numpy as np\n",
        "import matplotlib.pyplot as plt\n",
        "from astropy.io import fits\n",
        "from glob import glob\n",
        "import pandas as pd\n",
        "from scipy.interpolate import interp1d"
      ]
    },
    {
      "cell_type": "code",
      "execution_count": 10,
      "metadata": {
        "id": "aG1csRTaT1-x"
      },
      "outputs": [
        {
          "name": "stderr",
          "output_type": "stream",
          "text": [
            "/var/folders/6k/7lpgck413j1__xdr1fy86f9h0000gn/T/ipykernel_52381/2242107912.py:9: FutureWarning: The frame.append method is deprecated and will be removed from pandas in a future version. Use pandas.concat instead.\n",
            "  Camelot_QE_df = Camelot_QE_df.append(pd.DataFrame({'Wavelength (nm)': np.linspace(1000, 1110, 11), 'QE (%)': np.zeros(11)}), ignore_index=True)\n"
          ]
        }
      ],
      "source": [
        "## Filters\n",
        "file_path = 'files/'\n",
        "filt_trans_df = pd.read_table(os.path.join(file_path, 'TransFiltersSDSS'))\n",
        "\n",
        "## Detectors\n",
        "QHY411_QE_df  = pd.read_csv(os.path.join(file_path, 'QE_QHY411M.csv'))\n",
        "iKon936_QE_df = pd.read_csv(os.path.join(file_path, 'QE_iKon936.csv'))\n",
        "Camelot_QE_df = pd.read_csv(os.path.join(file_path, 'QE_Camelot.csv'))\n",
        "Camelot_QE_df = Camelot_QE_df.append(pd.DataFrame({'Wavelength (nm)': np.linspace(1000, 1110, 11), 'QE (%)': np.zeros(11)}), ignore_index=True)\n",
        "\n",
        "## Extinction coefficients for Teide Observatory\n",
        "ext_dic = {'SDSSr' : 0.12,\n",
        "           'SDSSi' : 0.09,\n",
        "           'SDSSg' : 0.15,}\n"
      ]
    },
    {
      "cell_type": "markdown",
      "metadata": {
        "id": "QdmydR8C77nj"
      },
      "source": [
        "### **System response function**\n",
        "\n",
        "The capture of photons by the optical system depends on the collecting power of the telescope and the succession of elements in the optical path, which produce a wavelength-dependent transmittance drop.\n",
        "\n",
        "Regarding the telescope, the collecting power will be considered to be flat over the whole spectrum covered by the instruments, a parameter $\\epsilon$ is introduced that can be understood as the performance of the mirrors and lenses. **This parameter should be modeled once the telescope is installed**. For the time being, it will be set, according to the specifications, at 96%.\n",
        "\n",
        "\n",
        "$$\n",
        "S = \\epsilon \\frac{\\pi}{4}D^2(1-O^2) \\frac{1}{h}\\int_0^\\infty S^{filt}(\\lambda)QE(\\lambda) \\lambda^{-1} d\\lambda\n",
        "$$\n",
        "\n",
        "where $D$ is the diameter of the telescope, $O$ the central obstruction percentage, $h = 6.626\\times 10^{-34}$ $J/s$, $S^{filt}$ the filter transmittance and $QE$ the detector quantum efficiency."
      ]
    },
    {
      "cell_type": "code",
      "execution_count": 11,
      "metadata": {
        "id": "SceP5K32aOXd"
      },
      "outputs": [],
      "source": [
        "def S (D, filt, filt_trans, QE, O=0.41, eps=0.96):\n",
        "  # Input:\n",
        "  #   D           :  Telescope diameter (m)\n",
        "  #   filt_trans  :  Filter transmitance (%)\n",
        "  #   QE          :  Quantum efficiency (%)\n",
        "  #   O           :  Telescope obscuration (%)\n",
        "  #   eps         :  Telescope efficiency (%)\n",
        "  # Return:\n",
        "  #   S_filt      :  System integral (m2 s/J)\n",
        "\n",
        "  # Calculate the system integral\n",
        "  x = filt_trans['Wavelength (nm)'].to_numpy()\n",
        "  y_filt = filt_trans[filt].to_numpy()*1e-2\n",
        "  f = interp1d(QE['Wavelength (nm)'], QE['QE (%)']*1e-2)   # interpolate QE\n",
        "  y_QE = f(x)\n",
        "  int_lambda = np.trapz(y_filt * y_QE * 1./x,x)            # numeric integration\n",
        "\n",
        "  S_filt = eps * np.pi/4 * D**2 * (1-O**2) / (6.626e-34) * int_lambda\n",
        "  return S_filt"
      ]
    },
    {
      "cell_type": "markdown",
      "metadata": {
        "id": "ZRP0T4FxHPXE"
      },
      "source": [
        "### **Object photometry**\n",
        "\n",
        "A source with flat spectral energy distribution, $F_\\nu(\\lambda) = F_o$, is assumed for standardized SNR calculation. Given its corresponding AB magnitude:\n",
        "$$\n",
        "m_{AB} = −2.5 log_{10}(F_o/3631 Jy)\n",
        "$$\n",
        "\n",
        "the density flux received per second on the top of the atmosphere is:\n",
        "\n",
        "$$\n",
        "F_o = 3631 Jy \\cdot 10^{-0.4 m_{AB}}\n",
        "$$"
      ]
    },
    {
      "cell_type": "code",
      "execution_count": 12,
      "metadata": {
        "id": "zryk-v3uSnVF"
      },
      "outputs": [],
      "source": [
        "def F (m):\n",
        "  # Input:\n",
        "  #   m      :  AB magnitude\n",
        "  # Return:\n",
        "  #   F_0    :  Density flux (J/s/Hz/m2)\n",
        "\n",
        "  return 3631e-26 * 10**(-0.4 * m)"
      ]
    },
    {
      "cell_type": "markdown",
      "metadata": {
        "id": "4SA1-fqUKQYz"
      },
      "source": [
        "### **Atmospheric extinction**\n",
        "\n",
        "The reduction of the photon flux produced by the atmosphere is known as extinction. Given the zenital distance $ZD$ of an object, the airmass $\\chi$ is defined as:\n",
        "$$\n",
        "\\chi = sec(h)\n",
        "$$\n",
        "\n",
        "And the extinction term:\n",
        "$$\n",
        "E = 10^{-0.4 \\chi \\kappa_b}\n",
        "$$\n",
        "\n",
        "where $\\kappa_b$ is the extinction coefficient in the filter $b$, which is characteristic of the observation site and may undergo small variations during the night. The absence of these variations is known as \"photometric night\"."
      ]
    },
    {
      "cell_type": "code",
      "execution_count": 13,
      "metadata": {
        "id": "OdVM2DGeKQIA"
      },
      "outputs": [],
      "source": [
        "def E(ZD, k):\n",
        "  # Input:\n",
        "  #   ZD      :  Zenithal distance (deg)\n",
        "  #   k       :  Extinction coefficient (mag/airmass)\n",
        "  # Return:\n",
        "  #   E       :  Extinction term\n",
        "\n",
        "  X = 1/np.cos(ZD * np.pi/180)\n",
        "  return 10 ** (-0.4 * X * k)"
      ]
    },
    {
      "cell_type": "markdown",
      "metadata": {
        "id": "XmeI31aal49B"
      },
      "source": [
        "### **Seeing**\n",
        "\n",
        "The aperture area in photometry depend on the FWHM of the object. In general, this will vary with wavelength and airmass:\n",
        "$$\n",
        "S = S_{0} \\cdot \\chi^{0.6} \\cdot \\left(\\frac{\\lambda}{\\lambda_0}\\right)^{-0.2}\n",
        "$$\n",
        "\n",
        "where $S_0$ is the seeing measured at the zenith at wavelength $\\lambda_0$."
      ]
    },
    {
      "cell_type": "code",
      "execution_count": 14,
      "metadata": {
        "id": "G4Gygy0oqcRJ"
      },
      "outputs": [],
      "source": [
        "def Seeing(S0, ZD, l, l0=900):\n",
        "  # Input:\n",
        "  #   S0      :  Seeing (arcsec) at the zenith at wavelength l0 (nm)\n",
        "  #   ZD      :  Zenithal distance (deg)\n",
        "  #   l       :  Desired wavelength (nm)\n",
        "  # Return:\n",
        "  #   Sc      :  Corrected seeing (arcsec)\n",
        "\n",
        "  X = 1/np.cos(ZD * np.pi/180)\n",
        "  return S0 * X**(0.6) * (l/l0)**(-0.2)"
      ]
    },
    {
      "cell_type": "markdown",
      "metadata": {
        "id": "fFCQSL5uHLRd"
      },
      "source": [
        "### **Signal**\n",
        "\n",
        "The total electrons per second measured by the detector at the telescope focal plane is, taking into account the above contributions:\n",
        "\n",
        "$$\n",
        "C_b = F_o \\cdot E \\cdot S = \\epsilon \\frac{\\pi}{4}D^2(1-O^2) \\frac{1}{h} 10^{-0.4 (m_{AB} +\\chi \\kappa_b)}\\int_0^\\infty S^{filt}(\\lambda)QE(\\lambda) \\lambda^{-1} d\\lambda\n",
        "$$\n",
        "\n",
        "Equivalently, having the sky brightness $m_{sky}$ in units of magnitude per arcsec$^2$, the number of electrons per second in each pixel is:\n",
        "\n",
        "$$\n",
        "B_b = \\epsilon \\frac{\\pi}{4}D^2(1-O^2) \\frac{1}{h} 10^{-0.4 m_{sky}} scale^2 \\int_0^\\infty S^{filt}(\\lambda)QE(\\lambda) \\lambda^{-1} d\\lambda\n",
        "$$"
      ]
    },
    {
      "cell_type": "code",
      "execution_count": 15,
      "metadata": {
        "id": "NnLHny4oUc3o"
      },
      "outputs": [],
      "source": [
        "def Signal(m_AB, m_sky, ZD, k, D, filt, filt_trans, QE, O=0.41, eps=0.96, scale=0.2):\n",
        "  # Input:\n",
        "  #   m_AB        :  Target AB magnitude\n",
        "  #   m_sky       :  Sky background AB magnitude\n",
        "  #   ZD          :  Object zenital distance (deg)\n",
        "  #   k           :  Extinction coefficient in the filter band (mag/airmass)\n",
        "  #   D           :  Telescope diameter (m)\n",
        "  #   filt_trans  :  Filter transmitance (%)\n",
        "  #   QE          :  Quantum efficiency (%)\n",
        "  #   O           :  Telescope obscuration (%)\n",
        "  #   eps         :  Telescope efficiency (%)\n",
        "  #   scale       :  Pixel scale (arcsec/px)\n",
        "  # Return:\n",
        "  #   C_b         :  Object detected e-/s\n",
        "  #   B_b         :  Sky detected e-/s\n",
        "\n",
        "  system = S (D, filt, filt_trans, QE, O, eps)\n",
        "  flux_obj = F (m_AB)\n",
        "  flux_sky = F (m_sky)\n",
        "  ext = E(ZD, k)\n",
        "  C_b = flux_obj * system * ext\n",
        "  B_b = flux_sky * system * scale**2\n",
        "  return C_b, B_b"
      ]
    },
    {
      "cell_type": "markdown",
      "metadata": {
        "id": "KOsTeZQPVg9d"
      },
      "source": [
        "### **Signal-to-Noise Ratio**\n",
        "\n",
        "The main noise components include photonic noise due to the object, the sky and the dark current $DC$, as well as Gaussian readout noise $R$. The signal-to-noise ratio is:\n",
        "\n",
        "$$\n",
        "SNR = \\frac{C_b t_{exp}}{\\sqrt{C_b t_{exp} + n_{p}(B_b t_{exp} + DC t_{exp} + R^2)}}\n",
        "$$\n",
        "\n",
        "where $t_{exp}$ is the exposure time and $n_p = 2.266(FWHM/scale)^2$ the number of pixels considered on the photometry aperture.\n",
        "\n",
        "The exposure time can then be found by using the expression:\n",
        "\n",
        "$$\n",
        "t_{exp} = \\frac{SNR^2[C_b+n_{p}(B_b+DC)] + \\sqrt{SNR^4[C_b+n_{p}(B_b+DC)]^2 + 4C_b^2SNR^2n_{p}R^2}}{2C_b^2}\n",
        "$$"
      ]
    },
    {
      "cell_type": "code",
      "execution_count": 16,
      "metadata": {
        "id": "A1zSNZyYW_2Q"
      },
      "outputs": [],
      "source": [
        "def SNR_tg(C_b, B_b, DC, R, texp, FWHM, scale):\n",
        "  # Input:\n",
        "  #   C_b         :  Object detected e-/s\n",
        "  #   B_b         :  Sky detected e-/s\n",
        "  #   DC          :  Detector dark current (e-/s)\n",
        "  #   R           :  Detector readout noise (e-)\n",
        "  #   texp        :  Exposure time (s)\n",
        "  #   FWHM        :  FWHM of the star psf (arcsec)\n",
        "  #   scale       :  Pixel scale (arcsec/px)\n",
        "  # Return:\n",
        "  #   SNR         :  Signal-to-Noise ratio of the targe photometry\n",
        "\n",
        "  n_p = 2.266 * (FWHM/scale)**2\n",
        "  return C_b * texp / np.sqrt(C_b * texp + n_p * (B_b * texp + DC * texp + R**2))\n",
        "\n",
        "def texp (C_b, B_b, DC, R, SNR, FWHM, scale):\n",
        "  # Input:\n",
        "  #   C_b         :  Object detected e-/s\n",
        "  #   B_b         :  Sky detected e-/s\n",
        "  #   DC          :  Detector dark current (e-/s)\n",
        "  #   R           :  Detector readout noise (e-)\n",
        "  #   SNR         :  Signal-to-Noise ratio of the targe photometry\n",
        "  #   FWHM        :  FWHM of the star psf (arcsec)\n",
        "  #   scale       :  Pixel scale (arcsec/px)\n",
        "  # Return:\n",
        "  #   texp        :  Exposure time (s)\n",
        "\n",
        "  n_p = 2.266 * (FWHM/scale)**2\n",
        "  t = (SNR**2 * (C_b + n_p * (B_b + DC)) +\n",
        "       np.sqrt(SNR**4 * (C_b + n_p * (B_b + DC))**2 +\n",
        "               4 * C_b**2 * SNR**2 * n_p * R**2)\n",
        "       ) / (2 * C_b**2)\n",
        "  return t\n",
        "\n",
        "def plate_scale_mm(focal):\n",
        "    # focal length in mm\n",
        "    return 206265 / focal # arcsec/mm\n",
        "\n",
        "def plate_scale_px(microns, focal):\n",
        "    # pixel size in microns\n",
        "    return plate_scale_mm(focal) * microns/1000  # arcsec/px"
      ]
    },
    {
      "cell_type": "markdown",
      "metadata": {
        "id": "5hbedIXyzcO5"
      },
      "source": [
        "### **Co-adding images**\n",
        "\n",
        "If several exposures are coadded in a single **averaged** image, the SNR improves with the square root of the number of sub-exposures $N$:\n",
        "\n",
        "$$\n",
        "SNR_{coadded} = SNR \\cdot \\sqrt{N}\n",
        "$$"
      ]
    },
    {
      "cell_type": "code",
      "execution_count": 17,
      "metadata": {
        "id": "nO67XDPfz-ar"
      },
      "outputs": [],
      "source": [
        "def coadd(SNR, N, method='avg'):\n",
        "  # Input:\n",
        "  #   SNR           :  Signal-to-Noise Ratio in a single image\n",
        "  #   N             :  Number of coadded exposures\n",
        "  #   method        :  Co-adding method\n",
        "  # Return:\n",
        "  #   SNR_coadded   :  Equivalent Signal-to-Noise Ratio in the co-added image\n",
        "  if method == 'avg': SNR_coadded = SNR * np.sqrt(N)\n",
        "\n",
        "  return SNR_coadded\n",
        "\n",
        "def N_coadded(SNR_max, SNR):\n",
        "  N = (SNR / SNR_max)**2\n",
        "  return N"
      ]
    },
    {
      "cell_type": "markdown",
      "metadata": {
        "id": "-WV4hZKl0Q_4"
      },
      "source": [
        "In addition to this, observing without autoguiding and a high dark current sets a limit on the maximum exposure time. We will therefore distinguish integration time $t_{integ}$ as the equivalent time of the image formed by the co-adding of $N$ exposures with $t_{exp}$:\n",
        "$$\n",
        "t_{integ} = N \\cdot t_{exp}\n",
        "$$"
      ]
    },
    {
      "cell_type": "code",
      "execution_count": 21,
      "metadata": {
        "id": "MtFV9KVq0_xz"
      },
      "outputs": [],
      "source": [
        "def ETC(m_AB, m_sky, SNR, filt, ZD, k, S0, texp_max, det='QHY411', tel='AZ800'):\n",
        "  # Input:\n",
        "  #   m_AB      :  Target AB magnitude\n",
        "  #   m_sky     :  List of sky background AB magnitudes\n",
        "  #   SNR       :  Desired Signal-to-Noise ratio of the target\n",
        "  #   filt      :  Filter name (SDSSr, SDSSg, SDSSi)\n",
        "  #   ZD        :  List of object zenital distance (deg)\n",
        "  #   k         :  List of extinction coefficient in the filter band (mag/airmass)\n",
        "  #   S0        :  List of Seeing at 900nm at zenith (arcsec)\n",
        "  #   texp_max  :  Maximum exposure time (s)\n",
        "  #   det       :  Detector name (QHY411, Ikon936, Camelot)\n",
        "  #   tel       :  Telescope name (AZ800, AZ2000, IAC80)\n",
        "  # Return:\n",
        "  #   t_exp     :  Exposure time (s)\n",
        "  #   N_exp     :  Number of exposures\n",
        "\n",
        "  # Telescope characteristics\n",
        "  if tel == 'AZ800':\n",
        "    D = 0.8\n",
        "    fD = 6.85\n",
        "    O = 0.41\n",
        "    eps = 0.5\n",
        "  elif tel == 'AZ2000':\n",
        "    D = 2\n",
        "    fD = 6.85\n",
        "    O = 0.41\n",
        "    eps = 0.5\n",
        "  elif tel == 'IAC80':\n",
        "    D = 0.82\n",
        "    fD = 11.3\n",
        "    O = 0.55\n",
        "    eps = 0.45\n",
        "  else:\n",
        "    print('Telescope is not available')\n",
        "    return None\n",
        "\n",
        "  # Detector characteristics\n",
        "  if det == 'QHY411':\n",
        "    QE = QHY411_QE_df[['Wavelength (nm)','QE (%)']].sort_values('Wavelength (nm)')\n",
        "    px_sz = 3.76\n",
        "    fD *= 0.64\n",
        "    R = 3.74\n",
        "    DC = 0.0032\n",
        "  elif det == 'iKon936':\n",
        "    QE = iKon936_QE_df[['Wavelength (nm)','QE (%)']].sort_values('Wavelength (nm)')\n",
        "    px_sz = 13.5\n",
        "    R = 7\n",
        "    DC = 0.0003\n",
        "  elif det == 'Camelot':\n",
        "    QE = Camelot_QE_df[['Wavelength (nm)','QE (%)']].sort_values('Wavelength (nm)')\n",
        "    px_sz = 15\n",
        "    R = 12.11\n",
        "    DC = 0.0003\n",
        "  else:\n",
        "    print('Detector is not available')\n",
        "    return None\n",
        "\n",
        "  # Read filter transmitance\n",
        "  try: filt_trans = filt_trans_df[['Wavelength (nm)',filt]].sort_values('Wavelength (nm)')\n",
        "  except:\n",
        "    print('Filter is not available')\n",
        "    return None\n",
        "\n",
        "  # Calculate telescope scale\n",
        "  scale = plate_scale_px(px_sz, D * 1e3 * fD)\n",
        "\n",
        "  # Correct FWHM from zenithal distance and wavelength\n",
        "  FWHM = Seeing(S0, ZD, np.mean(filt_trans.loc[filt_trans[filt] > 0.1, 'Wavelength (nm)']))\n",
        "\n",
        "  # Obtain signals\n",
        "  C_b, B_b = Signal(m_AB, m_sky, ZD, k, D, filt, filt_trans, QE, O, eps, scale)\n",
        "  SNR_max = SNR_tg(C_b, B_b, DC, R, texp_max, FWHM, scale)\n",
        "  N = np.ceil(N_coadded(SNR_max, SNR))\n",
        "  if N == 1:\n",
        "    t_exp = texp (C_b, B_b, DC, R, SNR, FWHM, scale)\n",
        "  else:\n",
        "    t_exp = texp (C_b, B_b, DC, R, SNR / np.sqrt(N), FWHM, scale)\n",
        "\n",
        "  return t_exp, N"
      ]
    },
    {
      "cell_type": "markdown",
      "metadata": {},
      "source": [
        "### Usage"
      ]
    },
    {
      "cell_type": "code",
      "execution_count": 22,
      "metadata": {
        "colab": {
          "base_uri": "https://localhost:8080/"
        },
        "id": "7Ff8ZIjOPm7B",
        "outputId": "e8efef93-fda7-4e42-d66d-61aeaf0a6914"
      },
      "outputs": [
        {
          "name": "stdout",
          "output_type": "stream",
          "text": [
            "290.6350522798231 18.0\n"
          ]
        }
      ],
      "source": [
        "m_AB = 20\n",
        "m_sky = 20\n",
        "SNR = 62\n",
        "filt = 'SDSSr'\n",
        "ZD = 20\n",
        "k = ext_dic[filt]\n",
        "texp_max = 300\n",
        "S0 = 2\n",
        "\n",
        "exptime, N = ETC(m_AB, m_sky, SNR, filt, ZD, k, S0, texp_max, det='QHY411', tel='AZ800')"
      ]
    }
  ],
  "metadata": {
    "colab": {
      "provenance": []
    },
    "kernelspec": {
      "display_name": "Python 3",
      "language": "python",
      "name": "python3"
    },
    "language_info": {
      "codemirror_mode": {
        "name": "ipython",
        "version": 3
      },
      "file_extension": ".py",
      "mimetype": "text/x-python",
      "name": "python",
      "nbconvert_exporter": "python",
      "pygments_lexer": "ipython3",
      "version": "3.9.13"
    }
  },
  "nbformat": 4,
  "nbformat_minor": 0
}
